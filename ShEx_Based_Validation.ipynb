{
  "nbformat": 4,
  "nbformat_minor": 0,
  "metadata": {
    "colab": {
      "provenance": []
    },
    "kernelspec": {
      "name": "python3",
      "display_name": "Python 3"
    },
    "language_info": {
      "name": "python"
    }
  },
  "cells": [
    {
      "cell_type": "code",
      "execution_count": null,
      "metadata": {
        "colab": {
          "base_uri": "https://localhost:8080/"
        },
        "id": "xIG-dzAuBCx4",
        "outputId": "fe77b03b-8da4-4801-b646-c5941eb5f956"
      },
      "outputs": [
        {
          "name": "stdout",
          "output_type": "stream",
          "text": [
            "What is the ID of the considered EntitySchemaE105\n"
          ]
        }
      ],
      "source": [
        "#Getting the ID of the EntitySchema\n",
        "id = input(\"What is the ID of the considered EntitySchema\")\n",
        "url = \"https://www.wikidata.org/wiki/Special:EntitySchemaText/\"+ id"
      ]
    },
    {
      "cell_type": "code",
      "source": [
        "#Retrieving the EntitySchema\n",
        "import requests\n",
        "entityschema = requests.get(url)\n",
        "schematext = entityschema.text"
      ],
      "metadata": {
        "id": "zAqUoh_mBajZ"
      },
      "execution_count": null,
      "outputs": []
    },
    {
      "cell_type": "code",
      "source": [
        "schematext"
      ],
      "metadata": {
        "colab": {
          "base_uri": "https://localhost:8080/",
          "height": 123
        },
        "id": "U7vLMrwwBkd_",
        "outputId": "5d5fd301-ffbd-41de-bc2f-31838c8372a4"
      },
      "execution_count": null,
      "outputs": [
        {
          "output_type": "execute_result",
          "data": {
            "text/plain": [
              "'PREFIX rdfs: <http://www.w3.org/2000/01/rdf-schema#>\\nPREFIX skos: <http://www.w3.org/2004/02/skos/core#>\\nPREFIX pr: <http://www.wikidata.org/prop/reference/>\\nPREFIX pq: <http://www.wikidata.org/prop/qualifier/>\\nPREFIX ps: <http://www.wikidata.org/prop/statement/>\\nPREFIX wdref: <http://www.wikidata.org/reference/>\\nPREFIX p: <http://www.wikidata.org/prop/>\\nPREFIX wdt: <http://www.wikidata.org/prop/direct/>\\nPREFIX wd: <http://www.wikidata.org/entity/>\\nPREFIX wikibase: <http://wikiba.se/ontology#>\\nPREFIX prov: <http://www.w3.org/ns/prov#>\\nPREFIX xsd: <http://www.w3.org/2001/XMLSchema#>\\n\\n# example SPARQL: SELECT ?wdItem_overledene_op_nlWikipedia WHERE { ?artikel_over_overledene_op_nlWikipedia schema:isPartOf <https://nl.wikipedia.org/> ; schema:about ?wdItem_overledene_op_nlWikipedia . ?wdItem_overledene_op_nlWikipedia  wdt:P31 wd:Q5 ; wdt:P570 ?dod .} LIMIT 100\\n\\nstart=@<deceased_person> \\n\\n<deceased_person> EXTRA p:P31 {\\n\\twdt:P31   [wd:Q5] ;\\n\\tp:P570  @<P570_dod> ;\\n\\tp:P569  @<P569_dob>? ;\\n\\tp:P27   @<P27_citizenship>+ ;\\n}\\n\\n<P570_dod> {\\n\\tps:P570 xsd:dateTime ;\\n\\t#prov:wasDerivedFrom @<main_reference>+ ; \\n}\\n\\n<P569_dob> {\\n\\tps:P569 xsd:dateTime ;\\n\\t#prov:wasDerivedFrom @<main_reference>+ ; \\n} \\n\\n<P27_citizenship> {\\n\\tps:P27  @<country> ;\\n\\t#prov:wasDerivedFrom @<main_reference>+ ;\\n}\\n\\n<main_reference> {\\n\\tpr:P248 {} ;\\n\\tpr:P577 {} ;\\n\\tpr:P854 {} ;\\n\\tpr:P1476 {} ;\\n\\tpr:P6333 {} ;\\n\\tpr:P813 {} ;\\n}\\n\\n<country> {\\n\\twdt:P31 [wd:Q6256] ;\\n}'"
            ],
            "application/vnd.google.colaboratory.intrinsic+json": {
              "type": "string"
            }
          },
          "metadata": {},
          "execution_count": 353
        }
      ]
    },
    {
      "cell_type": "code",
      "source": [
        "#Extracting the EntitySchema input\n",
        "def extractvar(schematext):\n",
        "  begin = max(schematext.find(\"start =\"), schematext.find(\"start=\"))\n",
        "  varlist = schematext[begin:]\n",
        "  varlist = varlist[:varlist.find(\"\\n\")]\n",
        "  return list(map(lambda x: x.split(), varlist.split(\"@\")))[1:]"
      ],
      "metadata": {
        "id": "FFXC-It0B_P-"
      },
      "execution_count": null,
      "outputs": []
    },
    {
      "cell_type": "code",
      "source": [
        "var = extractvar(schematext)\n",
        "var = [x[0] for x in var]\n",
        "print(var)"
      ],
      "metadata": {
        "id": "ZaxNuipZCzeX",
        "colab": {
          "base_uri": "https://localhost:8080/"
        },
        "outputId": "bba9ed3c-b48c-40de-e1cd-bed6e7f2b2a5"
      },
      "execution_count": null,
      "outputs": [
        {
          "output_type": "stream",
          "name": "stdout",
          "text": [
            "['<deceased_person>']\n"
          ]
        }
      ]
    },
    {
      "cell_type": "code",
      "source": [
        "#Extracting the EntitySchema statements\n",
        "def extractstatements(schematext):\n",
        "  begin = max(schematext.find(\"start =\"), schematext.find(\"start=\"))\n",
        "  varlist = schematext[begin:]\n",
        "  varlist = varlist[varlist.find(\"\\n\"):]\n",
        "  return varlist"
      ],
      "metadata": {
        "id": "WbZfEi3AFrd0"
      },
      "execution_count": null,
      "outputs": []
    },
    {
      "cell_type": "code",
      "source": [
        "#Getting the subjects of the ShEx statements\n",
        "c = extractstatements(schematext)\n",
        "subjectvar = []\n",
        "subjectstatements = []\n",
        "while c != \"\":\n",
        "  subjectvar.append(c[:c.find(\"{\")])\n",
        "  c = c[c.find(\"{\")+1:]\n",
        "  n = 1\n",
        "  p = 0\n",
        "  while (n > 0) and (p < len(c)):\n",
        "    if c[p] == \"{\": n+=1\n",
        "    if c[p] == \"}\": n-=1\n",
        "    p += 1\n",
        "  subjectstatements.append(c[:p])\n",
        "  c = c[p:]"
      ],
      "metadata": {
        "id": "wEqBzsNNF2WN"
      },
      "execution_count": null,
      "outputs": []
    },
    {
      "cell_type": "code",
      "source": [
        "subjectvar = list(map(lambda x: x.strip(), subjectvar))\n",
        "subjectvar = list(map(lambda x: x[:x.find(\">\")]+\">\", subjectvar))\n",
        "subjectvar = [x.replace(\"#\",\"\") for x in subjectvar]\n",
        "print(subjectvar)"
      ],
      "metadata": {
        "id": "U0LRrDj1JOsb",
        "colab": {
          "base_uri": "https://localhost:8080/"
        },
        "outputId": "0b5ec437-2314-478e-bf54-14a0c529edf6"
      },
      "execution_count": null,
      "outputs": [
        {
          "output_type": "stream",
          "name": "stdout",
          "text": [
            "['<deceased_person>', '<P570_dod>', '<P569_dob>', '<P27_citizenship>', '<main_reference>', '<country>']\n"
          ]
        }
      ]
    },
    {
      "cell_type": "code",
      "source": [
        "#Getting the predicates and objects of the ShEx statements\n",
        "stlist = list(map(lambda x: x.split(\"\\n\"), subjectstatements))\n",
        "print(stlist)\n",
        "cleanstatements = []\n",
        "for i in stlist:\n",
        "  j = [x.strip() for x in i]\n",
        "  cleanstatements.append([x for x in j if (x.find(\"wd:Q\")>=0 or x.find(\"@\")>=0)])"
      ],
      "metadata": {
        "id": "_7cDzvrlJR6b",
        "colab": {
          "base_uri": "https://localhost:8080/"
        },
        "outputId": "2da3079e-c071-4c88-9926-32b8a0e7d951"
      },
      "execution_count": null,
      "outputs": [
        {
          "output_type": "stream",
          "name": "stdout",
          "text": [
            "[['', '\\twdt:P31   [wd:Q5] ;', '\\tp:P570  @<P570_dod> ;', '\\tp:P569  @<P569_dob>? ;', '\\tp:P27   @<P27_citizenship>+ ;', '}'], ['', '\\tps:P570 xsd:dateTime ;', '\\t#prov:wasDerivedFrom @<main_reference>+ ; ', '}'], ['', '\\tps:P569 xsd:dateTime ;', '\\t#prov:wasDerivedFrom @<main_reference>+ ; ', '}'], ['', '\\tps:P27  @<country> ;', '\\t#prov:wasDerivedFrom @<main_reference>+ ;', '}'], ['', '\\tpr:P248 {} ;', '\\tpr:P577 {} ;', '\\tpr:P854 {} ;', '\\tpr:P1476 {} ;', '\\tpr:P6333 {} ;', '\\tpr:P813 {} ;', '}'], ['', '\\twdt:P31 [wd:Q6256] ;', '}']]\n"
          ]
        }
      ]
    },
    {
      "cell_type": "code",
      "source": [
        "while (cleanstatements.count([])>0):\n",
        "  uvar = subjectvar[cleanstatements.index([])]\n",
        "  clean = []\n",
        "  for i in cleanstatements:\n",
        "    clean.append([x for x in i if (x.find(uvar) == -1)])\n",
        "  cleanstatements = clean\n",
        "  del subjectvar[cleanstatements.index([])]\n",
        "  del cleanstatements[cleanstatements.index([])]"
      ],
      "metadata": {
        "id": "yb0RNk9bLRwI"
      },
      "execution_count": null,
      "outputs": []
    },
    {
      "cell_type": "code",
      "source": [
        "clean = []\n",
        "for l in cleanstatements:\n",
        "  list01 = []\n",
        "  for s in l:\n",
        "    if s.find(\"@\") == -1:\n",
        "      list01.append(s)\n",
        "    else:\n",
        "      cc = 0\n",
        "      for element in subjectvar:\n",
        "        if (s.find(element) >= 0): cc += 1\n",
        "      if cc > 0: list01.append(s)\n",
        "  clean.append(list01)\n",
        "cleanstatements = clean"
      ],
      "metadata": {
        "id": "tLWDcWTgOkb2"
      },
      "execution_count": null,
      "outputs": []
    },
    {
      "cell_type": "code",
      "source": [
        "clean = []\n",
        "for l in cleanstatements:\n",
        "  clean.append([x.replace(\"{\", \"$\").replace(\"}\", \"£\") for x in l])\n",
        "cleanstatements = clean"
      ],
      "metadata": {
        "id": "m6wJi_joWHrJ"
      },
      "execution_count": null,
      "outputs": []
    },
    {
      "cell_type": "code",
      "source": [
        "#Formulating the SPARQL query to extract the Wikidata ID of the entities to be validated\n",
        "for element in var:\n",
        "  subjectvar = [x.replace(element, \"<id>\") for x in subjectvar]\n",
        "subjectvar = [x.replace(\"<\", \"?\") for x in subjectvar]\n",
        "subjectvar = [x.replace(\">\", \"\") for x in subjectvar]\n",
        "\n",
        "clean = []\n",
        "for l in cleanstatements:\n",
        "  list01 = [x.replace(\"?\",\"\") for x in l]\n",
        "  list01 = [x.replace(\"@<\",\"?\") for x in list01]\n",
        "  list01 = [x.replace(\">\",\"\") for x in list01]\n",
        "  list01 = [x.replace(\"+\",\"\") for x in list01]\n",
        "  list01 = [x.replace(\"*\",\"\") for x in list01]\n",
        "  list01 = [x[:-1] for x in list01]\n",
        "  clean.append(list01)\n",
        "cleanstatements = clean"
      ],
      "metadata": {
        "id": "n5PiVMj0YC8t"
      },
      "execution_count": null,
      "outputs": []
    },
    {
      "cell_type": "code",
      "source": [
        "statements = []\n",
        "for i in range(len(cleanstatements)):\n",
        "  list01 = [subjectvar[i] + \" \" + x for x in cleanstatements[i]]\n",
        "  statements.append(list01)"
      ],
      "metadata": {
        "id": "cJ9mwJyZOq6x"
      },
      "execution_count": null,
      "outputs": []
    },
    {
      "cell_type": "code",
      "source": [
        "clean = []\n",
        "for l in statements:\n",
        "  list02 = []\n",
        "  for element in l:\n",
        "    if (element.find(\"[\") >= 0):\n",
        "      base = element[:element.find(\"[\")]\n",
        "      variables = element[element.find(\"[\"):]\n",
        "      vars = variables[variables.find(\"[\")+1:variables.find(\"]\")].strip().split(\" \")\n",
        "      string = \"{\"\n",
        "      for var in vars:\n",
        "        if (len(string) > 1): string += \" UNION {\"\n",
        "        string += base+var+\"}\"\n",
        "    else:\n",
        "      string = element\n",
        "    list02.append(string)\n",
        "  clean.append(list02)\n",
        "statements = clean\n",
        "print(statements)"
      ],
      "metadata": {
        "id": "KRTccOZKbAjy",
        "colab": {
          "base_uri": "https://localhost:8080/"
        },
        "outputId": "abf21cd6-9b3b-4409-eb6c-408dbcac3c58"
      },
      "execution_count": null,
      "outputs": [
        {
          "output_type": "stream",
          "name": "stdout",
          "text": [
            "[['{?id wdt:P31   wd:Q5}', '?id p:P27   ?P27_citizenship '], ['?P27_citizenship ps:P27  ?country '], ['{?country wdt:P31 wd:Q6256}']]\n"
          ]
        }
      ]
    },
    {
      "cell_type": "code",
      "source": [
        "clean = []\n",
        "for i in statements:\n",
        "  clean.append([x for x in i if (\":P\" in x)])\n",
        "statements = clean\n",
        "\n",
        "clean = []\n",
        "for i in statements:\n",
        "  list01 = []\n",
        "  for elements in i:\n",
        "    if (\"$\" in elements) and not(\"£\" in element):\n",
        "      if (elements[-1] == \"}\"):\n",
        "        list01.append(elements[:-1]+\"£\" * (elements[:-1].count(\"$\") - elements[:-1].count(\"£\")) +\"}\")\n",
        "      else:\n",
        "        list01.append(elements+\"£\" * (elements[:-1].count(\"$\") - elements[:-1].count(\"£\")))\n",
        "    else:\n",
        "      list01.append(elements)\n",
        "  clean.append(list01)\n",
        "statements = clean\n",
        "\n",
        "clean = []\n",
        "for i in statements:\n",
        "  list01 = [x for x in i if not(\"EXTRA\" in x)]\n",
        "  clean.append(list01)\n",
        "statements = clean\n",
        "statements = [x for x in statements if x != []]\n",
        "print(statements)"
      ],
      "metadata": {
        "colab": {
          "base_uri": "https://localhost:8080/"
        },
        "id": "vFrIDlomiLp1",
        "outputId": "d1b5634f-8c8b-41bf-9636-dfec38f6d5ed"
      },
      "execution_count": null,
      "outputs": [
        {
          "output_type": "stream",
          "name": "stdout",
          "text": [
            "[['{?id wdt:P31   wd:Q5}', '?id p:P27   ?P27_citizenship '], ['?P27_citizenship ps:P27  ?country '], ['{?country wdt:P31 wd:Q6256}']]\n"
          ]
        }
      ]
    },
    {
      "cell_type": "code",
      "source": [
        "query = \"SELECT ?id WHERE {\\n\"\n",
        "if (subjectvar.count(\"?id\") > 1):\n",
        "  idstatements = []\n",
        "  otherstatements = []\n",
        "  for n in range(len(subjectvar)):\n",
        "    if subjectvar[n] != \"?id\":\n",
        "      otherstatements += statements[n]\n",
        "    else:\n",
        "      idstatements.append(statements[n].join(\".\\n\"))\n",
        "  query += \"{\" + idstatements.join(\"} UNION {\\n\") + \"}\"\n",
        "  query += otherstatements.join(\".\\n\")\n",
        "else:\n",
        "  for x in statements:\n",
        "    query += \"\\n\".join(x)+\".\\n\"\n",
        "query += \"}\"\n",
        "query = query.replace(\"$\", \"[\").replace(\"£\", \"]\").replace(\"?#\", \"?\")"
      ],
      "metadata": {
        "id": "RvaQJ34yde3c"
      },
      "execution_count": null,
      "outputs": []
    },
    {
      "cell_type": "code",
      "source": [
        "#Installing WikibaseIntegrator\n",
        "!pip install SPARQLWrapper"
      ],
      "metadata": {
        "colab": {
          "base_uri": "https://localhost:8080/"
        },
        "id": "ibyW3AnRdjNv",
        "outputId": "41a076dd-1906-44f5-e5fa-78551d12f714"
      },
      "execution_count": null,
      "outputs": [
        {
          "output_type": "stream",
          "name": "stdout",
          "text": [
            "Requirement already satisfied: SPARQLWrapper in /usr/local/lib/python3.10/dist-packages (2.0.0)\n",
            "Requirement already satisfied: rdflib>=6.1.1 in /usr/local/lib/python3.10/dist-packages (from SPARQLWrapper) (6.3.2)\n",
            "Requirement already satisfied: isodate<0.7.0,>=0.6.0 in /usr/local/lib/python3.10/dist-packages (from rdflib>=6.1.1->SPARQLWrapper) (0.6.1)\n",
            "Requirement already satisfied: pyparsing<4,>=2.1.0 in /usr/local/lib/python3.10/dist-packages (from rdflib>=6.1.1->SPARQLWrapper) (3.1.0)\n",
            "Requirement already satisfied: six in /usr/local/lib/python3.10/dist-packages (from isodate<0.7.0,>=0.6.0->rdflib>=6.1.1->SPARQLWrapper) (1.16.0)\n"
          ]
        }
      ]
    },
    {
      "cell_type": "code",
      "source": [
        "#Getting the IDs of the entities to be validated\n",
        "import sys\n",
        "from SPARQLWrapper import SPARQLWrapper, JSON\n",
        "\n",
        "endpoint_url = \"https://query.wikidata.org/sparql\"\n",
        "offset = 0\n",
        "limit = 100\n",
        "queryf = query + \"\\nOFFSET \" + str(offset) + \"\\nLIMIT \" + str(limit)\n",
        "\n",
        "def get_results(endpoint_url, queryf):\n",
        "    user_agent = \"WDQS-example Python/%s.%s\" % (sys.version_info[0], sys.version_info[1])\n",
        "    # TODO adjust user agent; see https://w.wiki/CX6\n",
        "    sparql = SPARQLWrapper(endpoint_url, agent=user_agent)\n",
        "    sparql.setQuery(queryf)\n",
        "    sparql.setReturnFormat(JSON)\n",
        "    return sparql.query().convert()\n",
        "\n",
        "\n",
        "results = get_results(endpoint_url, queryf)\n",
        "\n",
        "for result in results[\"results\"][\"bindings\"]:\n",
        "    print(result)\n"
      ],
      "metadata": {
        "colab": {
          "base_uri": "https://localhost:8080/"
        },
        "id": "Wz0-Za2iFE9q",
        "outputId": "79da4841-b81f-4e31-c6a8-2afbc474f21d"
      },
      "execution_count": null,
      "outputs": [
        {
          "output_type": "stream",
          "name": "stdout",
          "text": [
            "{'id': {'type': 'uri', 'value': 'http://www.wikidata.org/entity/Q1554673'}}\n",
            "{'id': {'type': 'uri', 'value': 'http://www.wikidata.org/entity/Q3312010'}}\n",
            "{'id': {'type': 'uri', 'value': 'http://www.wikidata.org/entity/Q6794399'}}\n",
            "{'id': {'type': 'uri', 'value': 'http://www.wikidata.org/entity/Q6949475'}}\n",
            "{'id': {'type': 'uri', 'value': 'http://www.wikidata.org/entity/Q54134095'}}\n",
            "{'id': {'type': 'uri', 'value': 'http://www.wikidata.org/entity/Q65454793'}}\n",
            "{'id': {'type': 'uri', 'value': 'http://www.wikidata.org/entity/Q65454796'}}\n",
            "{'id': {'type': 'uri', 'value': 'http://www.wikidata.org/entity/Q65454799'}}\n",
            "{'id': {'type': 'uri', 'value': 'http://www.wikidata.org/entity/Q633'}}\n",
            "{'id': {'type': 'uri', 'value': 'http://www.wikidata.org/entity/Q1276'}}\n",
            "{'id': {'type': 'uri', 'value': 'http://www.wikidata.org/entity/Q18804'}}\n",
            "{'id': {'type': 'uri', 'value': 'http://www.wikidata.org/entity/Q18947'}}\n",
            "{'id': {'type': 'uri', 'value': 'http://www.wikidata.org/entity/Q18950'}}\n",
            "{'id': {'type': 'uri', 'value': 'http://www.wikidata.org/entity/Q30449'}}\n",
            "{'id': {'type': 'uri', 'value': 'http://www.wikidata.org/entity/Q38334'}}\n",
            "{'id': {'type': 'uri', 'value': 'http://www.wikidata.org/entity/Q47306'}}\n",
            "{'id': {'type': 'uri', 'value': 'http://www.wikidata.org/entity/Q52255'}}\n",
            "{'id': {'type': 'uri', 'value': 'http://www.wikidata.org/entity/Q59393'}}\n",
            "{'id': {'type': 'uri', 'value': 'http://www.wikidata.org/entity/Q59630'}}\n",
            "{'id': {'type': 'uri', 'value': 'http://www.wikidata.org/entity/Q59800'}}\n",
            "{'id': {'type': 'uri', 'value': 'http://www.wikidata.org/entity/Q60137'}}\n",
            "{'id': {'type': 'uri', 'value': 'http://www.wikidata.org/entity/Q62899'}}\n",
            "{'id': {'type': 'uri', 'value': 'http://www.wikidata.org/entity/Q63314'}}\n",
            "{'id': {'type': 'uri', 'value': 'http://www.wikidata.org/entity/Q73058'}}\n",
            "{'id': {'type': 'uri', 'value': 'http://www.wikidata.org/entity/Q73566'}}\n",
            "{'id': {'type': 'uri', 'value': 'http://www.wikidata.org/entity/Q76602'}}\n",
            "{'id': {'type': 'uri', 'value': 'http://www.wikidata.org/entity/Q84699'}}\n",
            "{'id': {'type': 'uri', 'value': 'http://www.wikidata.org/entity/Q85990'}}\n",
            "{'id': {'type': 'uri', 'value': 'http://www.wikidata.org/entity/Q87439'}}\n",
            "{'id': {'type': 'uri', 'value': 'http://www.wikidata.org/entity/Q92782'}}\n",
            "{'id': {'type': 'uri', 'value': 'http://www.wikidata.org/entity/Q92909'}}\n",
            "{'id': {'type': 'uri', 'value': 'http://www.wikidata.org/entity/Q93818'}}\n",
            "{'id': {'type': 'uri', 'value': 'http://www.wikidata.org/entity/Q94485'}}\n",
            "{'id': {'type': 'uri', 'value': 'http://www.wikidata.org/entity/Q94763'}}\n",
            "{'id': {'type': 'uri', 'value': 'http://www.wikidata.org/entity/Q95019'}}\n",
            "{'id': {'type': 'uri', 'value': 'http://www.wikidata.org/entity/Q102163'}}\n",
            "{'id': {'type': 'uri', 'value': 'http://www.wikidata.org/entity/Q104600'}}\n",
            "{'id': {'type': 'uri', 'value': 'http://www.wikidata.org/entity/Q105221'}}\n",
            "{'id': {'type': 'uri', 'value': 'http://www.wikidata.org/entity/Q110073'}}\n",
            "{'id': {'type': 'uri', 'value': 'http://www.wikidata.org/entity/Q113941'}}\n",
            "{'id': {'type': 'uri', 'value': 'http://www.wikidata.org/entity/Q114068'}}\n",
            "{'id': {'type': 'uri', 'value': 'http://www.wikidata.org/entity/Q117141'}}\n",
            "{'id': {'type': 'uri', 'value': 'http://www.wikidata.org/entity/Q117619'}}\n",
            "{'id': {'type': 'uri', 'value': 'http://www.wikidata.org/entity/Q119876'}}\n",
            "{'id': {'type': 'uri', 'value': 'http://www.wikidata.org/entity/Q125849'}}\n",
            "{'id': {'type': 'uri', 'value': 'http://www.wikidata.org/entity/Q127122'}}\n",
            "{'id': {'type': 'uri', 'value': 'http://www.wikidata.org/entity/Q128453'}}\n",
            "{'id': {'type': 'uri', 'value': 'http://www.wikidata.org/entity/Q128677'}}\n",
            "{'id': {'type': 'uri', 'value': 'http://www.wikidata.org/entity/Q137634'}}\n",
            "{'id': {'type': 'uri', 'value': 'http://www.wikidata.org/entity/Q139855'}}\n",
            "{'id': {'type': 'uri', 'value': 'http://www.wikidata.org/entity/Q147453'}}\n",
            "{'id': {'type': 'uri', 'value': 'http://www.wikidata.org/entity/Q151433'}}\n",
            "{'id': {'type': 'uri', 'value': 'http://www.wikidata.org/entity/Q153753'}}\n",
            "{'id': {'type': 'uri', 'value': 'http://www.wikidata.org/entity/Q166819'}}\n",
            "{'id': {'type': 'uri', 'value': 'http://www.wikidata.org/entity/Q167229'}}\n",
            "{'id': {'type': 'uri', 'value': 'http://www.wikidata.org/entity/Q167678'}}\n",
            "{'id': {'type': 'uri', 'value': 'http://www.wikidata.org/entity/Q172283'}}\n",
            "{'id': {'type': 'uri', 'value': 'http://www.wikidata.org/entity/Q172525'}}\n",
            "{'id': {'type': 'uri', 'value': 'http://www.wikidata.org/entity/Q175638'}}\n",
            "{'id': {'type': 'uri', 'value': 'http://www.wikidata.org/entity/Q176439'}}\n",
            "{'id': {'type': 'uri', 'value': 'http://www.wikidata.org/entity/Q177753'}}\n",
            "{'id': {'type': 'uri', 'value': 'http://www.wikidata.org/entity/Q177960'}}\n",
            "{'id': {'type': 'uri', 'value': 'http://www.wikidata.org/entity/Q178770'}}\n",
            "{'id': {'type': 'uri', 'value': 'http://www.wikidata.org/entity/Q179607'}}\n",
            "{'id': {'type': 'uri', 'value': 'http://www.wikidata.org/entity/Q179812'}}\n",
            "{'id': {'type': 'uri', 'value': 'http://www.wikidata.org/entity/Q180002'}}\n",
            "{'id': {'type': 'uri', 'value': 'http://www.wikidata.org/entity/Q180374'}}\n",
            "{'id': {'type': 'uri', 'value': 'http://www.wikidata.org/entity/Q181249'}}\n",
            "{'id': {'type': 'uri', 'value': 'http://www.wikidata.org/entity/Q181603'}}\n",
            "{'id': {'type': 'uri', 'value': 'http://www.wikidata.org/entity/Q185002'}}\n",
            "{'id': {'type': 'uri', 'value': 'http://www.wikidata.org/entity/Q185595'}}\n",
            "{'id': {'type': 'uri', 'value': 'http://www.wikidata.org/entity/Q186042'}}\n",
            "{'id': {'type': 'uri', 'value': 'http://www.wikidata.org/entity/Q187884'}}\n",
            "{'id': {'type': 'uri', 'value': 'http://www.wikidata.org/entity/Q189733'}}\n",
            "{'id': {'type': 'uri', 'value': 'http://www.wikidata.org/entity/Q190386'}}\n",
            "{'id': {'type': 'uri', 'value': 'http://www.wikidata.org/entity/Q192655'}}\n",
            "{'id': {'type': 'uri', 'value': 'http://www.wikidata.org/entity/Q193482'}}\n",
            "{'id': {'type': 'uri', 'value': 'http://www.wikidata.org/entity/Q199884'}}\n",
            "{'id': {'type': 'uri', 'value': 'http://www.wikidata.org/entity/Q201670'}}\n",
            "{'id': {'type': 'uri', 'value': 'http://www.wikidata.org/entity/Q202685'}}\n",
            "{'id': {'type': 'uri', 'value': 'http://www.wikidata.org/entity/Q203991'}}\n",
            "{'id': {'type': 'uri', 'value': 'http://www.wikidata.org/entity/Q205319'}}\n",
            "{'id': {'type': 'uri', 'value': 'http://www.wikidata.org/entity/Q212048'}}\n",
            "{'id': {'type': 'uri', 'value': 'http://www.wikidata.org/entity/Q212436'}}\n",
            "{'id': {'type': 'uri', 'value': 'http://www.wikidata.org/entity/Q213008'}}\n",
            "{'id': {'type': 'uri', 'value': 'http://www.wikidata.org/entity/Q213286'}}\n",
            "{'id': {'type': 'uri', 'value': 'http://www.wikidata.org/entity/Q214447'}}\n",
            "{'id': {'type': 'uri', 'value': 'http://www.wikidata.org/entity/Q224650'}}\n",
            "{'id': {'type': 'uri', 'value': 'http://www.wikidata.org/entity/Q227110'}}\n",
            "{'id': {'type': 'uri', 'value': 'http://www.wikidata.org/entity/Q229310'}}\n",
            "{'id': {'type': 'uri', 'value': 'http://www.wikidata.org/entity/Q230454'}}\n",
            "{'id': {'type': 'uri', 'value': 'http://www.wikidata.org/entity/Q233216'}}\n",
            "{'id': {'type': 'uri', 'value': 'http://www.wikidata.org/entity/Q234114'}}\n",
            "{'id': {'type': 'uri', 'value': 'http://www.wikidata.org/entity/Q236482'}}\n",
            "{'id': {'type': 'uri', 'value': 'http://www.wikidata.org/entity/Q236826'}}\n",
            "{'id': {'type': 'uri', 'value': 'http://www.wikidata.org/entity/Q237925'}}\n",
            "{'id': {'type': 'uri', 'value': 'http://www.wikidata.org/entity/Q239137'}}\n",
            "{'id': {'type': 'uri', 'value': 'http://www.wikidata.org/entity/Q239235'}}\n",
            "{'id': {'type': 'uri', 'value': 'http://www.wikidata.org/entity/Q239515'}}\n",
            "{'id': {'type': 'uri', 'value': 'http://www.wikidata.org/entity/Q240769'}}\n"
          ]
        }
      ]
    },
    {
      "cell_type": "code",
      "source": [
        "query"
      ],
      "metadata": {
        "id": "1nGW6--iLCBk",
        "colab": {
          "base_uri": "https://localhost:8080/",
          "height": 36
        },
        "outputId": "36c6e49a-0551-4c7a-d35d-5122a1d0a36d"
      },
      "execution_count": null,
      "outputs": [
        {
          "output_type": "execute_result",
          "data": {
            "text/plain": [
              "'SELECT ?id WHERE {\\n{?id wdt:P31   wd:Q5}\\n?id p:P27   ?P27_citizenship .\\n?P27_citizenship ps:P27  ?country .\\n{?country wdt:P31 wd:Q6256}.\\n}'"
            ],
            "application/vnd.google.colaboratory.intrinsic+json": {
              "type": "string"
            }
          },
          "metadata": {},
          "execution_count": 370
        }
      ]
    }
  ]
}